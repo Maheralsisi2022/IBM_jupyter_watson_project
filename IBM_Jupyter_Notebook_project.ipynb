{
 "cells": [
  {
   "cell_type": "markdown",
   "metadata": {},
   "source": [
    "# <center>__Data Science Tools and Ecosystem__</center>"
   ]
  },
  {
   "cell_type": "markdown",
   "metadata": {
    "collapsed": true
   },
   "source": [
    "### <center>using IBM WATSON</center>"
   ]
  },
  {
   "cell_type": "markdown",
   "metadata": {},
   "source": [
    "- IN THIS NoteBook I Practiced some principals \n",
    "    1. using jupyter on ibm watson\n",
    "    2. using and editing jupyter cells in both markdown and code \n",
    "    3. using some style format as guided in  __[ibm cheatcheet](https://www.ibm.com/docs/en/db2-event-store/2.0.0?topic=notebooks-markdown-jupyter-cheatsheet)__"
   ]
  },
  {
   "cell_type": "markdown",
   "metadata": {},
   "source": [
    "__Objectives:__<br>\n",
    "this note book indicates some points such as :\n",
    "- some data science famous languages.\n",
    "- some of the data science tools.\n",
    "- the different between code cell and markdown cell\n",
    "- how to use markdown cells basic formats.\n",
    "- how to perform calculations in code cells\n",
    "- using function such as round inside code cell."
   ]
  },
  {
   "cell_type": "markdown",
   "metadata": {},
   "source": [
    "__There Is Multible Programing Languages used in Data Science but the Most Popular is :__\n",
    "1. SQL for structured Data and relational DBMS.\n",
    "2. Python for both structured and unstructured and semi_structured Data, data analysis,machine learning and AI and alot more as it is general porpuse programming language.\n",
    "3. R and it is most popular in academics and statistical uses and also have great and powerfull data visualization libraries.\n",
    "4. for NoSQL DBMS each NoSQL DBMS use its own version of query such as CSQL for cassandra  and Cypher in Neo4j."
   ]
  },
  {
   "cell_type": "markdown",
   "metadata": {},
   "source": [
    "__Some Common used libraries in data science includes :__\n",
    "1. pandas\n",
    "2. numpy\n",
    "3. Tensorflow\n",
    "4. Matplotlib\n",
    "5. SciKit-Learn"
   ]
  },
  {
   "cell_type": "markdown",
   "metadata": {},
   "source": [
    "|Data Science Tools|\n",
    "|---:|\n",
    "|Excel|\n",
    "|Power BI|\n",
    "|TABLEAU|\n",
    "|Apache Spark|\n",
    "|Apache Airflow|\n",
    "|Hadoop|\n",
    "|kafka|"
   ]
  },
  {
   "cell_type": "markdown",
   "metadata": {},
   "source": [
    "### Jupyter is great providing Textual markdown sells that explain code but is also great in executing arithmatic in code cells :\n",
    "operation can be comblicated such as $$\n",
    "  \\int_0^\\infty \\frac{x^3}{e^x-1}\\,dx = \\frac{\\pi^4}{15}\n",
    "$$\n",
    "\n",
    "or as simple as $$x=5+3$$"
   ]
  },
  {
   "cell_type": "code",
   "execution_count": 8,
   "metadata": {},
   "outputs": [
    {
     "data": {
      "text/plain": [
       "17"
      ]
     },
     "execution_count": 8,
     "metadata": {},
     "output_type": "execute_result"
    }
   ],
   "source": [
    "# This a simple arithmetic expression to mutiply then add integers\n",
    "(3*4)+5"
   ]
  },
  {
   "cell_type": "code",
   "execution_count": 11,
   "metadata": {},
   "outputs": [
    {
     "data": {
      "text/plain": [
       "3.33"
      ]
     },
     "execution_count": 11,
     "metadata": {},
     "output_type": "execute_result"
    }
   ],
   "source": [
    "# This will convert 200 minutes to hours by diving by 60 rounded to nearest 2 decimal\n",
    "round(200/60,2)"
   ]
  },
  {
   "cell_type": "markdown",
   "metadata": {},
   "source": [
    "## Author\n",
    "Maher abdel-ghany alsisi"
   ]
  },
  {
   "cell_type": "code",
   "execution_count": null,
   "metadata": {},
   "outputs": [],
   "source": []
  }
 ],
 "metadata": {
  "kernelspec": {
   "display_name": "Python 3.10",
   "language": "python",
   "name": "python3"
  },
  "language_info": {
   "codemirror_mode": {
    "name": "ipython",
    "version": 3
   },
   "file_extension": ".py",
   "mimetype": "text/x-python",
   "name": "python",
   "nbconvert_exporter": "python",
   "pygments_lexer": "ipython3",
   "version": "3.10.9"
  }
 },
 "nbformat": 4,
 "nbformat_minor": 1
}
